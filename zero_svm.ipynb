{
 "cells": [
  {
   "cell_type": "code",
   "execution_count": 48,
   "metadata": {
    "collapsed": false
   },
   "outputs": [],
   "source": [
    "import numpy as np\n",
    "import h5py\n",
    "import scipy.io\n",
    "import pickle\n",
    "from sklearn.linear_model import LinearRegression\n",
    "from ranking import *\n",
    "from sklearn.svm import SVR\n",
    "from sklearn.kernel_ridge import KernelRidge as KR"
   ]
  },
  {
   "cell_type": "code",
   "execution_count": 25,
   "metadata": {
    "collapsed": false
   },
   "outputs": [],
   "source": [
    "#Can change NuSVR to other types\n",
    "#Matrix regression\n",
    "from sklearn.svm import NuSVR as SVR\n",
    "class kernel_svm:\n",
    "    def __init__(self):\n",
    "        self.x=0\n",
    "        self.y=0\n",
    "        self.s=0\n",
    "        self.x_par=0 #Number of x parameters\n",
    "        self.y_par=0 #Number of x parameters\n",
    "        \n",
    "    def fit(self,x,y,kernel='linear',C=1e3,gamma=0.1,degree=2,coef0=1):\n",
    "        self.x = x\n",
    "        self.y = y\n",
    "        self.x_par = x.shape[1]\n",
    "        try:\n",
    "            self.y_par = y.shape[1] \n",
    "        except:\n",
    "            self.y_par = 1\n",
    "                \n",
    "        self.s = [ SVR(kernel=kernel, C=C, gamma=gamma, degree=degree, coef0=coef0)] * self.y_par\n",
    "        for i in range(0, self.y_par):\n",
    "            if self.y_par == 1:\n",
    "                self.s[i].fit(x,y)\n",
    "            else:\n",
    "                self.s[i].fit(x, y[:,i])\n",
    "    \n",
    "    def predict(self,x):\n",
    "        y = np.zeros([len(x), self.y_par])\n",
    "        for i in range(0, self.y_par):\n",
    "            y[:,i] = self.s[i].predict(x)\n",
    "        return y\n",
    "    \n",
    "    def error(self,y1,y2):\n",
    "        return 1.0/y1.size * np.linalg.norm(y1-y2)"
   ]
  },
  {
   "cell_type": "code",
   "execution_count": 26,
   "metadata": {
    "collapsed": false
   },
   "outputs": [],
   "source": [
    "def MSE(a,b):\n",
    "    mse =0.0\n",
    "    print(a.shape, b.shape)\n",
    "    if a.shape != b.shape:\n",
    "        print(\"Size of vector mixmatch - cannot calculate Mean Squared error\")\n",
    "    for i in range(0,len(a)):\n",
    "        mse += np.linalg.norm(b[i] - a[i])**2\n",
    "    mse = 1.0/len(a)*mse\n",
    "    return mse\n"
   ]
  },
  {
   "cell_type": "code",
   "execution_count": 5,
   "metadata": {
    "collapsed": true
   },
   "outputs": [],
   "source": [
    "#Evaluation metric\n",
    "def F1_score(tags_pred, tags_actual,k1=3, k2=5):\n",
    "    k1_count=0.0\n",
    "    k2_count=0.0\n",
    "    for i in range(0,k1):\n",
    "        if tags_actual[tags_pred[i]] == 1:\n",
    "            k1_count += 1\n",
    "\n",
    "    for i in range(0,k2):\n",
    "        if tags_actual[tags_pred[i]] == 1:\n",
    "            k2_count += 1\n",
    "\n",
    "    num_tags = 1.0*(len(tag_word_vectors) + sum(tags_actual ))/2\n",
    "    \n",
    "    k1_recall = 1.0*k1_count/num_tags\n",
    "    k2_recall = 1.0*k2_count/num_tags \n",
    "    k1_precision = k1_count/k1\n",
    "    k2_precision = k2_count/k2\n",
    "    \n",
    "    #print('--->' + str(k1_precision) + \" : \" + str(k2_precision))\n",
    "    tmp1 = 2.0*k1_precision*k1_recall/(k1_precision + k1_recall)\n",
    "    tmp2 = 2.0*k2_precision*k2_recall/(k2_precision+k2_recall)\n",
    "    if tmp1 >= 0 and tmp2 >= 0:\n",
    "        return [tmp1,tmp2]\n",
    "    elif tmp1 >= 0:\n",
    "        return [tmp1,0]\n",
    "    elif tmp2 >= 0:\n",
    "        return [0,tmp2]\n",
    "    else:\n",
    "        return [0,0]\n"
   ]
  },
  {
   "cell_type": "code",
   "execution_count": 6,
   "metadata": {
    "collapsed": false
   },
   "outputs": [],
   "source": [
    "def loadData(wvToUse = 'original'):\n",
    "    print(\"Loading Data\")\n",
    "    global training_data, training_label, valid_data, valid_label, testing_data, testing_label\n",
    "    global n_training, n_testing, n_valid\n",
    "    global w_list, tag_word_vectors, len_tag_wv\n",
    "    \n",
    "    f = h5py.File('l2_normalized_semantic_SVM_full_data_with_val_291labels_no_zero.mat' )\n",
    "    training_data = np.transpose(f[\"prepared_training_data\"])\n",
    "    training_label = np.transpose(f[\"prepared_training_label\"])\n",
    "    valid_data = np.transpose(f[\"prepared_val_data\"])\n",
    "    valid_label = np.transpose(f[\"prepared_val_label\"])\n",
    "    testing_data = np.transpose(f[\"prepared_testing_data\"])\n",
    "    testing_label = np.transpose(f[\"prepared_testing_label\"])\n",
    "    \n",
    "    n_training = len(training_data)\n",
    "    n_valid = len(valid_data)\n",
    "    n_testing = len(testing_data)\n",
    "\n",
    "    if wvToUse == 'original':\n",
    "        tag_word_vectors = np.transpose(h5py.File('291labels.mat')[\"semantic_mat\"])\n",
    "    elif wvToUse == 'embeddings':\n",
    "        tag_word_vectors = scipy.io.loadmat('embeddings.mat')[\"U\"]\n",
    "\n",
    "    len_tag_wv =tag_word_vectors.shape[1]\n",
    "    \n",
    "    print(\"Done\")\n",
    "    return training_data, training_label, valid_data, valid_label, testing_data, testing_label, n_training, n_testing, n_valid, tag_word_vectors, len_tag_wv"
   ]
  },
  {
   "cell_type": "code",
   "execution_count": 7,
   "metadata": {
    "collapsed": false
   },
   "outputs": [
    {
     "name": "stderr",
     "output_type": "stream",
     "text": [
      "<ipython-input-7-2c035b187552>:6: SyntaxWarning: name 'n_training' is used prior to global declaration\n",
      "  global n_training, n_testing, n_valid\n",
      "<ipython-input-7-2c035b187552>:6: SyntaxWarning: name 'n_testing' is used prior to global declaration\n",
      "  global n_training, n_testing, n_valid\n",
      "<ipython-input-7-2c035b187552>:6: SyntaxWarning: name 'n_valid' is used prior to global declaration\n",
      "  global n_training, n_testing, n_valid\n"
     ]
    }
   ],
   "source": [
    "def modifyData(n_training_local=0, n_testing_local=0, n_valid_local=0):\n",
    "    if n_training == 0 or n_testing == 0 or n_valid == 0:\n",
    "        print(\"0 value entries not allowed\")\n",
    "    \n",
    "    global training_data, training_label, valid_data, valid_label, testing_data, testing_label\n",
    "    global n_training, n_testing, n_valid\n",
    "    global w_list\n",
    "    \n",
    "    if n_training_local != 0:\n",
    "        try:\n",
    "            training_data = training_data[0:n_training_local]\n",
    "            training_label = training_label[0:n_training_local]\n",
    "        except:\n",
    "            print('index (n_training) out of range, ignoring n_training for training')\n",
    "            \n",
    "        try:\n",
    "            valid_data = valid_data[0:n_valid_local]\n",
    "            valid_label = valid_label[0:n_valid_local]\n",
    "        except:\n",
    "            print('index (n_testing) out of range, ignoring n_testing for validation')\n",
    "            \n",
    "        try:\n",
    "            testing_data = testing_data[0:n_testing_local]\n",
    "            testing_label = testing_label[0:n_testing_local]\n",
    "        except:\n",
    "            print('index (n_valid) out of range, ignoring n_valid for test')\n",
    "    n_training = len(training_data)\n",
    "    n_valid = len(valid_data)\n",
    "    n_testing = len(testing_data)\n",
    "\n",
    "    #tag_word_vectors = np.transpose(h5py.File('291labels.mat')[\"semantic_mat\"])\n",
    "\n",
    "    print(\"Done\")\n",
    "    return training_data, training_label, valid_data, valid_label, testing_data, testing_label, n_training, n_testing, n_valid#, tag_word_vectors"
   ]
  },
  {
   "cell_type": "code",
   "execution_count": 8,
   "metadata": {
    "collapsed": false
   },
   "outputs": [],
   "source": [
    "def rankSVM():\n",
    "    global w_list\n",
    "    print(\"Ranking SVM for Training Data\")\n",
    "    r=RankSVM()\n",
    "    w_list=np.zeros([n_training,len_tag_wv])\n",
    "    for i in range(0,len(training_data)):\n",
    "        r.fit(tag_word_vectors,training_label[i])\n",
    "        w_list[i] = r.coef_\n",
    "    print('Done')\n",
    "    return w_list"
   ]
  },
  {
   "cell_type": "code",
   "execution_count": 9,
   "metadata": {
    "collapsed": false
   },
   "outputs": [],
   "source": [
    "def fitLinearRegression():\n",
    "    global A\n",
    "    print(\"Fitting Linear Regression model\")\n",
    "    lin_reg = LinearRegression(normalize=True)\n",
    "    lin_reg.fit(training_data, w_list)\n",
    "    print(lin_reg.score(training_data, w_list))\n",
    "    A = lin_reg.coef_\n",
    "    #print(w_list.shape,\" = \", A.shape, training_data.shape)\n",
    "    print(\"Done\")\n",
    "    return A"
   ]
  },
  {
   "cell_type": "code",
   "execution_count": 59,
   "metadata": {
    "collapsed": false
   },
   "outputs": [],
   "source": [
    "def fitKernelRegression(method = 'ridge', kernel = 'poly', degree = '50000', gamma=0.5):\n",
    "    global s\n",
    "    \n",
    "    #print(\"Fitting Support Vector Kernelized Regression model : \" + method + \" ; Kernel : \" + kernel)\n",
    "    \n",
    "    if method == 'ridge':\n",
    "        s=KR(kernel = kernel,degree=50000,gamma=gamma)\n",
    "        s.fit(training_data,w_list)\n",
    "        print(\"Ridge training score : \" + str(s.score(training_data,w_list)) + \" ... 1 best possible, <0 very bad\")\n",
    "    elif method == 'SVR':\n",
    "        s = kernel_svm()\n",
    "        s.fit(training_data, w_list,'poly',C=875,gamma=0.0001,degree=1,coef0=1)\n",
    "        #w = s.predict(training_data)\n",
    "        #print(s.error(w, w_list))\n",
    "    #print(\"Done\")\n",
    "    return s"
   ]
  },
  {
   "cell_type": "code",
   "execution_count": 61,
   "metadata": {
    "collapsed": false
   },
   "outputs": [],
   "source": [
    "def printAccuracies(fitType = 'lin', n1 = 10, n2 = 10, n3 = 10, k=5): #fitType = linear/kernelized\n",
    "    if fitType != 'lin' and fitType != 'kernel':\n",
    "        print('Invalid fitType, fitType should be lin or kernel')\n",
    "        return\n",
    "    #Accuracy for Training Data\n",
    "    #r=RankSVM()\n",
    "    avg1 = 0\n",
    "    avg2 = 0\n",
    "\n",
    "    a = np.zeros(291)#Number of images fot which the tag (ith tag) is predicted right\n",
    "    b = np.zeros(291)#Total number of occurences of the tags\n",
    "    c = np.zeros(291)#Total number of occurences of the predicted tags\n",
    "    \n",
    "    for ii in range(0,n1):\n",
    "        j=int(np.floor(np.random.rand(1)*n_training))\n",
    "        if fitType == 'lin':#Linear Regression\n",
    "            w = np.dot(training_data[j], np.transpose(A))\n",
    "        else:#Kernelized Support vector Regression\n",
    "            w = s.predict([training_data[j]]).reshape((len_tag_wv,))\n",
    "            \n",
    "        tags_pred_score = np.dot(w,np.transpose(tag_word_vectors))\n",
    "        tag_pred_ranked = [i[0] for i in sorted(enumerate(tags_pred_score), key=lambda x:x[1])]\n",
    "        tag_pred_ranked.reverse()\n",
    "        \n",
    "        #--------------------------------\n",
    "        for l in range(0,k):\n",
    "            c[tag_pred_ranked[l]] += 1\n",
    "            if training_label[j][tag_pred_ranked[l]] == 1:\n",
    "                a[tag_pred_ranked[l]] += 1\n",
    "            \n",
    "        for l in range(0,291):\n",
    "            if training_label[j][l] == 1:\n",
    "                b[l] += 1\n",
    "        \n",
    "        #--------------------------------\n",
    "        \n",
    "        [tmp1, tmp2] = F1_score(tag_pred_ranked, training_label[j],3,5)\n",
    "        #print('TRAINING : ' + str(tmp1) + \" : \" + str(tmp2))\n",
    "        avg1 += tmp1\n",
    "        avg2 += tmp2\n",
    "        \n",
    "    bvg = 0\n",
    "    b0cnt = 0\n",
    "    for i in range(0,291):\n",
    "        if b[i] != 0 and c[i]!=0 and a[i] != 0:\n",
    "            pre=a[i]/c[i]\n",
    "            rec=a[i]/b[i]\n",
    "            bvg += 2*pre*rec/(pre+rec)\n",
    "        elif b[i] == 0:\n",
    "            b0cnt += 1\n",
    "        \n",
    "    #print(\"TRAIN   : \" + str(avg1/n1) + \" : \"+ str(avg2/n1))\n",
    "    #print(\"TRAIN 2 : \" + str(bvg/(291-b0cnt)))\n",
    "    \n",
    "    \n",
    "    #Accuracy for Validation Data\n",
    "    avg1 =0 \n",
    "    avg2 = 0\n",
    "    for ii in range(0,n2):\n",
    "        j=int(np.floor(np.random.rand(1)*n_valid))\n",
    "        if fitType == 'lin': #Linear Regression\n",
    "            w = np.dot(valid_data[j], np.transpose(A))\n",
    "        else:  #Kernelized Support vector/Ridge Regression\n",
    "            w = s.predict([valid_data[j]]).reshape((len_tag_wv,))\n",
    "         \n",
    "        #w = np.dot(valid_data[j], np.transpose(A))\n",
    "        tags_pred_score = np.dot(w,np.transpose(tag_word_vectors)) \n",
    "        tag_pred_ranked = [i[0] for i in sorted(enumerate(tags_pred_score), key=lambda x:x[1])]\n",
    "        tag_pred_ranked.reverse()\n",
    "\n",
    "        [tmp1, tmp2] = F1_score(tag_pred_ranked, valid_label[j],3,5)\n",
    "\n",
    "        avg1 += tmp1\n",
    "        avg2 += tmp2\n",
    "\n",
    "    #print(\"VALID : \" + str(avg1/n2) + \" : \"+ str(avg2/n2))\n",
    "    \n",
    "    #Accuracy for Testing Data\n",
    "    avg1 =0 \n",
    "    avg2 = 0\n",
    "    a = np.zeros(291)#Number of images fot which the tag (ith tag) is predicted right\n",
    "    b = np.zeros(291)#Total number of occurences of the tags\n",
    "    c = np.zeros(291)#Total number of occurences of the predicted tags\n",
    "    \n",
    "    for ii in range(0,n3):\n",
    "        j=int(np.floor(np.random.rand(1)*n_testing))\n",
    "        if fitType == 'lin':#Linear Regression\n",
    "            w = np.dot(testing_data[j], np.transpose(A))\n",
    "        else:#Kernelized Support vector Regression\n",
    "            w = s.predict([testing_data[j]]).reshape((len_tag_wv,))\n",
    "        \n",
    "        tags_pred_score = np.dot(w,np.transpose(tag_word_vectors)) \n",
    "        tag_pred_ranked = [i[0] for i in sorted(enumerate(tags_pred_score), key=lambda x:x[1])]\n",
    "        tag_pred_ranked.reverse()\n",
    "        \n",
    "        #--------------------------------\n",
    "        for l in range(0,k):\n",
    "            c[tag_pred_ranked[l]] += 1\n",
    "            if testing_label[j][tag_pred_ranked[l]] == 1:\n",
    "                a[tag_pred_ranked[l]] += 1\n",
    "            \n",
    "        for l in range(0,291):\n",
    "            if testing_label[j][l] == 1:\n",
    "                b[l] += 1\n",
    "        \n",
    "        #--------------------------------\n",
    "        [tmp1, tmp2] = F1_score(tag_pred_ranked, testing_label[j],3,5)\n",
    "        #print(\"TESTING : \" + str(tmp1) + \" : \" + str(tmp2))\n",
    "        avg1 += tmp1\n",
    "        avg2 += tmp2\n",
    "        \n",
    "        bvg = 0\n",
    "        b0 = 0\n",
    "        for i in range(0,291):\n",
    "            #print(a[i],b[i],c[i])\n",
    "            if b[i] != 0 and c[i]!=0 and a[i] != 0:\n",
    "                pre=a[i]/c[i]\n",
    "                rec=a[i]/b[i]\n",
    "                bvg += 2*pre*rec/(pre+rec)\n",
    "            if b[i] == 0:\n",
    "                b0 += 1\n",
    "        \n",
    "    #print(\"TEST  : \" + str(avg1/n3) + \" : \"+ str(avg2/n3))\n",
    "    print(str(gamma)+\"\\t\"+str(bvg/(291-b0)))"
   ]
  },
  {
   "cell_type": "code",
   "execution_count": 81,
   "metadata": {
    "collapsed": false,
    "scrolled": true
   },
   "outputs": [
    {
     "name": "stdout",
     "output_type": "stream",
     "text": [
      "\n",
      "k=5\n"
     ]
    },
    {
     "name": "stderr",
     "output_type": "stream",
     "text": [
      "/usr/local/lib/python2.7/dist-packages/ipykernel/__main__.py:21: RuntimeWarning: invalid value encountered in double_scalars\n",
      "/usr/local/lib/python2.7/dist-packages/ipykernel/__main__.py:22: RuntimeWarning: invalid value encountered in double_scalars\n"
     ]
    },
    {
     "name": "stdout",
     "output_type": "stream",
     "text": [
      "0.08\t0.293917223908\n"
     ]
    }
   ],
   "source": [
    "#print('LINEAR')\n",
    "#printAccuracies('lin',10,10,1000)\n",
    "#print('k=3')\n",
    "#for gamma in np.arange(0.3,0.5,0.01):\n",
    "#    fitKernelRegression('rbf',gamma = gamma);\n",
    "    #print('_________________________________________________________\\n\\n')\n",
    "    #print('gamma : ' + str(gamma)+'\\n')\n",
    "#    printAccuracies('kernel',1,1, n_testing,3)\n",
    "\n",
    "print('\\nk=5')\n",
    "\n",
    "fitKernelRegression('rbf',gamma = 0.5);\n",
    "printAccuracies('kernel',1,1,n_testing,5)\n"
   ]
  },
  {
   "cell_type": "code",
   "execution_count": 80,
   "metadata": {
    "collapsed": false
   },
   "outputs": [
    {
     "name": "stderr",
     "output_type": "stream",
     "text": [
      "/usr/local/lib/python2.7/dist-packages/ipykernel/__main__.py:21: RuntimeWarning: invalid value encountered in double_scalars\n",
      "/usr/local/lib/python2.7/dist-packages/ipykernel/__main__.py:22: RuntimeWarning: invalid value encountered in double_scalars\n"
     ]
    },
    {
     "name": "stdout",
     "output_type": "stream",
     "text": [
      "0.08\t0.289029943428\n"
     ]
    }
   ],
   "source": [
    "fitKernelRegression('rbf',gamma=0.08)\n",
    "printAccuracies('kernel',1,1,1000,5)"
   ]
  },
  {
   "cell_type": "code",
   "execution_count": 49,
   "metadata": {
    "collapsed": false
   },
   "outputs": [
    {
     "name": "stdout",
     "output_type": "stream",
     "text": [
      "Loading Data\n",
      "Done\n"
     ]
    }
   ],
   "source": [
    "loadData('original');"
   ]
  },
  {
   "cell_type": "code",
   "execution_count": 78,
   "metadata": {
    "collapsed": false
   },
   "outputs": [],
   "source": [
    "model = pickle.load(open('model.pkl'))"
   ]
  },
  {
   "cell_type": "code",
   "execution_count": 72,
   "metadata": {
    "collapsed": false
   },
   "outputs": [
    {
     "name": "stdout",
     "output_type": "stream",
     "text": [
      "Ranking SVM for Training Data\n",
      "Done\n"
     ]
    }
   ],
   "source": [
    "rankSVM();"
   ]
  },
  {
   "cell_type": "code",
   "execution_count": null,
   "metadata": {
    "collapsed": false
   },
   "outputs": [],
   "source": [
    "tag_word_vectors=model['tag_word_vectors']\n",
    "A=model['linear_model']\n",
    "s=model['kernel_model']\n",
    "w_list=model['w_list']"
   ]
  },
  {
   "cell_type": "code",
   "execution_count": 21,
   "metadata": {
    "collapsed": false,
    "scrolled": true
   },
   "outputs": [
    {
     "name": "stdout",
     "output_type": "stream",
     "text": [
      "Fitting Linear Regression model\n"
     ]
    },
    {
     "ename": "NameError",
     "evalue": "global name 'w_list' is not defined",
     "output_type": "error",
     "traceback": [
      "\u001b[0;31m-----------------------------------------------------------------------\u001b[0m",
      "\u001b[0;31mNameError\u001b[0m                             Traceback (most recent call last)",
      "\u001b[0;32m<ipython-input-21-8b739204b7cd>\u001b[0m in \u001b[0;36m<module>\u001b[0;34m()\u001b[0m\n\u001b[0;32m----> 1\u001b[0;31m \u001b[0mfitLinearRegression\u001b[0m\u001b[0;34m(\u001b[0m\u001b[0;34m)\u001b[0m\u001b[0;34m;\u001b[0m\u001b[0;34m\u001b[0m\u001b[0m\n\u001b[0m",
      "\u001b[0;32m<ipython-input-9-14f672518989>\u001b[0m in \u001b[0;36mfitLinearRegression\u001b[0;34m()\u001b[0m\n\u001b[1;32m      3\u001b[0m     \u001b[0;32mprint\u001b[0m\u001b[0;34m(\u001b[0m\u001b[0;34m\"Fitting Linear Regression model\"\u001b[0m\u001b[0;34m)\u001b[0m\u001b[0;34m\u001b[0m\u001b[0m\n\u001b[1;32m      4\u001b[0m     \u001b[0mlin_reg\u001b[0m \u001b[0;34m=\u001b[0m \u001b[0mLinearRegression\u001b[0m\u001b[0;34m(\u001b[0m\u001b[0mnormalize\u001b[0m\u001b[0;34m=\u001b[0m\u001b[0mTrue\u001b[0m\u001b[0;34m)\u001b[0m\u001b[0;34m\u001b[0m\u001b[0m\n\u001b[0;32m----> 5\u001b[0;31m     \u001b[0mlin_reg\u001b[0m\u001b[0;34m.\u001b[0m\u001b[0mfit\u001b[0m\u001b[0;34m(\u001b[0m\u001b[0mtraining_data\u001b[0m\u001b[0;34m,\u001b[0m \u001b[0mw_list\u001b[0m\u001b[0;34m)\u001b[0m\u001b[0;34m\u001b[0m\u001b[0m\n\u001b[0m\u001b[1;32m      6\u001b[0m     \u001b[0;32mprint\u001b[0m\u001b[0;34m(\u001b[0m\u001b[0mlin_reg\u001b[0m\u001b[0;34m.\u001b[0m\u001b[0mscore\u001b[0m\u001b[0;34m(\u001b[0m\u001b[0mtraining_data\u001b[0m\u001b[0;34m,\u001b[0m \u001b[0mw_list\u001b[0m\u001b[0;34m)\u001b[0m\u001b[0;34m)\u001b[0m\u001b[0;34m\u001b[0m\u001b[0m\n\u001b[1;32m      7\u001b[0m     \u001b[0mA\u001b[0m \u001b[0;34m=\u001b[0m \u001b[0mlin_reg\u001b[0m\u001b[0;34m.\u001b[0m\u001b[0mcoef_\u001b[0m\u001b[0;34m\u001b[0m\u001b[0m\n",
      "\u001b[0;31mNameError\u001b[0m: global name 'w_list' is not defined"
     ]
    }
   ],
   "source": [
    "fitLinearRegression();"
   ]
  },
  {
   "cell_type": "code",
   "execution_count": 38,
   "metadata": {
    "collapsed": false
   },
   "outputs": [
    {
     "name": "stdout",
     "output_type": "stream",
     "text": [
      "Fitting Support Vector Kernelized Regression model : rbf ; Kernel : poly\n",
      "Done\n"
     ]
    }
   ],
   "source": [
    "fitKernelRegression('rbf',gamma =0.1);"
   ]
  },
  {
   "cell_type": "code",
   "execution_count": 70,
   "metadata": {
    "collapsed": false
   },
   "outputs": [],
   "source": [
    "model = {}\n",
    "model['tag_word_vectors'] = tag_word_vectors\n",
    "model['linear_model'] = A\n",
    "model['kernel_model'] = s\n",
    "model['w_list'] = w_list\n",
    "modelFile = open('model_50000.pkl', \"w\")\n",
    "pickle.dump(model,modelFile)"
   ]
  },
  {
   "cell_type": "code",
   "execution_count": null,
   "metadata": {
    "collapsed": true
   },
   "outputs": [],
   "source": []
  }
 ],
 "metadata": {
  "kernelspec": {
   "display_name": "Python 2",
   "language": "python",
   "name": "python2"
  },
  "language_info": {
   "codemirror_mode": {
    "name": "ipython",
    "version": 2
   },
   "file_extension": ".py",
   "mimetype": "text/x-python",
   "name": "python",
   "nbconvert_exporter": "python",
   "pygments_lexer": "ipython2",
   "version": "2.7.12"
  }
 },
 "nbformat": 4,
 "nbformat_minor": 1
}
